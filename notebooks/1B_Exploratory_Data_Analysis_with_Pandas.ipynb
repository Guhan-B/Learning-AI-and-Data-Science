{
 "cells": [
  {
   "cell_type": "code",
   "execution_count": 1,
   "id": "3cef9ba6",
   "metadata": {
    "execution": {
     "iopub.execute_input": "2024-04-05T18:26:58.887098Z",
     "iopub.status.busy": "2024-04-05T18:26:58.886386Z",
     "iopub.status.idle": "2024-04-05T18:26:59.873762Z",
     "shell.execute_reply": "2024-04-05T18:26:59.872836Z"
    },
    "id": "b451WlQqwfKs",
    "papermill": {
     "duration": 1.000298,
     "end_time": "2024-04-05T18:26:59.876960",
     "exception": false,
     "start_time": "2024-04-05T18:26:58.876662",
     "status": "completed"
    },
    "tags": []
   },
   "outputs": [],
   "source": [
    "import numpy as np\n",
    "import pandas as pd"
   ]
  },
  {
   "cell_type": "code",
   "execution_count": null,
   "id": "4d56308a",
   "metadata": {
    "execution": {
     "iopub.execute_input": "2024-04-05T18:26:59.900822Z",
     "iopub.status.busy": "2024-04-05T18:26:59.899926Z",
     "iopub.status.idle": "2024-04-05T18:27:00.357697Z",
     "shell.execute_reply": "2024-04-05T18:27:00.356652Z"
    },
    "id": "LjJQugNP-ZcH",
    "papermill": {
     "duration": 0.472489,
     "end_time": "2024-04-05T18:27:00.360227",
     "exception": false,
     "start_time": "2024-04-05T18:26:59.887738",
     "status": "completed"
    },
    "tags": []
   },
   "outputs": [],
   "source": [
    "data = pd.read_csv(\"https://raw.githubusercontent.com/Guhan-B/The-Machine-Learning-Repository/refs/heads/main/datasets/salary.csv\");"
   ]
  },
  {
   "cell_type": "code",
   "execution_count": 3,
   "id": "6d00688e",
   "metadata": {
    "execution": {
     "iopub.execute_input": "2024-04-05T18:27:00.376810Z",
     "iopub.status.busy": "2024-04-05T18:27:00.376407Z",
     "iopub.status.idle": "2024-04-05T18:27:00.401670Z",
     "shell.execute_reply": "2024-04-05T18:27:00.400437Z"
    },
    "id": "HOP4HZEs-ftm",
    "outputId": "e32a4a9e-0fe3-49ad-8664-229b11aeaade",
    "papermill": {
     "duration": 0.037689,
     "end_time": "2024-04-05T18:27:00.405093",
     "exception": false,
     "start_time": "2024-04-05T18:27:00.367404",
     "status": "completed"
    },
    "tags": []
   },
   "outputs": [
    {
     "data": {
      "text/html": [
       "<div>\n",
       "<style scoped>\n",
       "    .dataframe tbody tr th:only-of-type {\n",
       "        vertical-align: middle;\n",
       "    }\n",
       "\n",
       "    .dataframe tbody tr th {\n",
       "        vertical-align: top;\n",
       "    }\n",
       "\n",
       "    .dataframe thead th {\n",
       "        text-align: right;\n",
       "    }\n",
       "</style>\n",
       "<table border=\"1\" class=\"dataframe\">\n",
       "  <thead>\n",
       "    <tr style=\"text-align: right;\">\n",
       "      <th></th>\n",
       "      <th>age</th>\n",
       "      <th>workclass</th>\n",
       "      <th>fnlwgt</th>\n",
       "      <th>education</th>\n",
       "      <th>education-num</th>\n",
       "      <th>marital-status</th>\n",
       "      <th>occupation</th>\n",
       "      <th>relationship</th>\n",
       "      <th>race</th>\n",
       "      <th>sex</th>\n",
       "      <th>capital-gain</th>\n",
       "      <th>capital-loss</th>\n",
       "      <th>hours-per-week</th>\n",
       "      <th>native-country</th>\n",
       "      <th>salary</th>\n",
       "    </tr>\n",
       "  </thead>\n",
       "  <tbody>\n",
       "    <tr>\n",
       "      <th>0</th>\n",
       "      <td>39</td>\n",
       "      <td>State-gov</td>\n",
       "      <td>77516</td>\n",
       "      <td>Bachelors</td>\n",
       "      <td>13</td>\n",
       "      <td>Never-married</td>\n",
       "      <td>Adm-clerical</td>\n",
       "      <td>Not-in-family</td>\n",
       "      <td>White</td>\n",
       "      <td>Male</td>\n",
       "      <td>2174</td>\n",
       "      <td>0</td>\n",
       "      <td>40</td>\n",
       "      <td>United-States</td>\n",
       "      <td>&lt;=50K</td>\n",
       "    </tr>\n",
       "    <tr>\n",
       "      <th>1</th>\n",
       "      <td>50</td>\n",
       "      <td>Self-emp-not-inc</td>\n",
       "      <td>83311</td>\n",
       "      <td>Bachelors</td>\n",
       "      <td>13</td>\n",
       "      <td>Married-civ-spouse</td>\n",
       "      <td>Exec-managerial</td>\n",
       "      <td>Husband</td>\n",
       "      <td>White</td>\n",
       "      <td>Male</td>\n",
       "      <td>0</td>\n",
       "      <td>0</td>\n",
       "      <td>13</td>\n",
       "      <td>United-States</td>\n",
       "      <td>&lt;=50K</td>\n",
       "    </tr>\n",
       "    <tr>\n",
       "      <th>2</th>\n",
       "      <td>38</td>\n",
       "      <td>Private</td>\n",
       "      <td>215646</td>\n",
       "      <td>HS-grad</td>\n",
       "      <td>9</td>\n",
       "      <td>Divorced</td>\n",
       "      <td>Handlers-cleaners</td>\n",
       "      <td>Not-in-family</td>\n",
       "      <td>White</td>\n",
       "      <td>Male</td>\n",
       "      <td>0</td>\n",
       "      <td>0</td>\n",
       "      <td>40</td>\n",
       "      <td>United-States</td>\n",
       "      <td>&lt;=50K</td>\n",
       "    </tr>\n",
       "    <tr>\n",
       "      <th>3</th>\n",
       "      <td>53</td>\n",
       "      <td>Private</td>\n",
       "      <td>234721</td>\n",
       "      <td>11th</td>\n",
       "      <td>7</td>\n",
       "      <td>Married-civ-spouse</td>\n",
       "      <td>Handlers-cleaners</td>\n",
       "      <td>Husband</td>\n",
       "      <td>Black</td>\n",
       "      <td>Male</td>\n",
       "      <td>0</td>\n",
       "      <td>0</td>\n",
       "      <td>40</td>\n",
       "      <td>United-States</td>\n",
       "      <td>&lt;=50K</td>\n",
       "    </tr>\n",
       "    <tr>\n",
       "      <th>4</th>\n",
       "      <td>28</td>\n",
       "      <td>Private</td>\n",
       "      <td>338409</td>\n",
       "      <td>Bachelors</td>\n",
       "      <td>13</td>\n",
       "      <td>Married-civ-spouse</td>\n",
       "      <td>Prof-specialty</td>\n",
       "      <td>Wife</td>\n",
       "      <td>Black</td>\n",
       "      <td>Female</td>\n",
       "      <td>0</td>\n",
       "      <td>0</td>\n",
       "      <td>40</td>\n",
       "      <td>Cuba</td>\n",
       "      <td>&lt;=50K</td>\n",
       "    </tr>\n",
       "  </tbody>\n",
       "</table>\n",
       "</div>"
      ],
      "text/plain": [
       "   age         workclass  fnlwgt  education  education-num  \\\n",
       "0   39         State-gov   77516  Bachelors             13   \n",
       "1   50  Self-emp-not-inc   83311  Bachelors             13   \n",
       "2   38           Private  215646    HS-grad              9   \n",
       "3   53           Private  234721       11th              7   \n",
       "4   28           Private  338409  Bachelors             13   \n",
       "\n",
       "       marital-status         occupation   relationship   race     sex  \\\n",
       "0       Never-married       Adm-clerical  Not-in-family  White    Male   \n",
       "1  Married-civ-spouse    Exec-managerial        Husband  White    Male   \n",
       "2            Divorced  Handlers-cleaners  Not-in-family  White    Male   \n",
       "3  Married-civ-spouse  Handlers-cleaners        Husband  Black    Male   \n",
       "4  Married-civ-spouse     Prof-specialty           Wife  Black  Female   \n",
       "\n",
       "   capital-gain  capital-loss  hours-per-week native-country salary  \n",
       "0          2174             0              40  United-States  <=50K  \n",
       "1             0             0              13  United-States  <=50K  \n",
       "2             0             0              40  United-States  <=50K  \n",
       "3             0             0              40  United-States  <=50K  \n",
       "4             0             0              40           Cuba  <=50K  "
      ]
     },
     "execution_count": 3,
     "metadata": {},
     "output_type": "execute_result"
    }
   ],
   "source": [
    "data.head()"
   ]
  },
  {
   "cell_type": "markdown",
   "id": "772ba080",
   "metadata": {
    "id": "5L9S2vX3-rJc",
    "papermill": {
     "duration": 0.007012,
     "end_time": "2024-04-05T18:27:00.419346",
     "exception": false,
     "start_time": "2024-04-05T18:27:00.412334",
     "status": "completed"
    },
    "tags": []
   },
   "source": [
    "#### **1. How many men and women (sex feature) are represented in this dataset?**"
   ]
  },
  {
   "cell_type": "code",
   "execution_count": 4,
   "id": "ad450b75",
   "metadata": {
    "execution": {
     "iopub.execute_input": "2024-04-05T18:27:00.436154Z",
     "iopub.status.busy": "2024-04-05T18:27:00.435728Z",
     "iopub.status.idle": "2024-04-05T18:27:00.454724Z",
     "shell.execute_reply": "2024-04-05T18:27:00.453536Z"
    },
    "id": "bxy77X2p-l0H",
    "outputId": "a7296f74-6d7c-442d-fd0c-d233ff92e926",
    "papermill": {
     "duration": 0.030985,
     "end_time": "2024-04-05T18:27:00.457607",
     "exception": false,
     "start_time": "2024-04-05T18:27:00.426622",
     "status": "completed"
    },
    "tags": []
   },
   "outputs": [
    {
     "name": "stdout",
     "output_type": "stream",
     "text": [
      "Number of Men : 21790\n",
      "Number of Women : 10771\n"
     ]
    }
   ],
   "source": [
    "print(\"Number of Men :\", data[\"sex\"].value_counts(normalize=False)[\"Male\"])\n",
    "print(\"Number of Women :\", data[\"sex\"].value_counts(normalize=False)[\"Female\"])"
   ]
  },
  {
   "cell_type": "code",
   "execution_count": 5,
   "id": "9ede7917",
   "metadata": {
    "execution": {
     "iopub.execute_input": "2024-04-05T18:27:00.474528Z",
     "iopub.status.busy": "2024-04-05T18:27:00.474046Z",
     "iopub.status.idle": "2024-04-05T18:27:00.491521Z",
     "shell.execute_reply": "2024-04-05T18:27:00.490281Z"
    },
    "id": "FhNFrm9a-4Dh",
    "outputId": "dd5a3051-45d4-42e4-9625-8d7550cda2d8",
    "papermill": {
     "duration": 0.028736,
     "end_time": "2024-04-05T18:27:00.493842",
     "exception": false,
     "start_time": "2024-04-05T18:27:00.465106",
     "status": "completed"
    },
    "tags": []
   },
   "outputs": [
    {
     "name": "stdout",
     "output_type": "stream",
     "text": [
      "Percentage of Men : 66.92 %\n",
      "Percentage of Women : 33.08 %\n"
     ]
    }
   ],
   "source": [
    "print(\"Percentage of Men :\", round(data[\"sex\"].value_counts(normalize=True)[\"Male\"] * 100, 2), \"%\")\n",
    "print(\"Percentage of Women :\", round(data[\"sex\"].value_counts(normalize=True)[\"Female\"] * 100, 2), \"%\")"
   ]
  },
  {
   "cell_type": "markdown",
   "id": "5dbd57e3",
   "metadata": {
    "id": "Oc--SXlP_lBq",
    "papermill": {
     "duration": 0.007255,
     "end_time": "2024-04-05T18:27:00.508487",
     "exception": false,
     "start_time": "2024-04-05T18:27:00.501232",
     "status": "completed"
    },
    "tags": []
   },
   "source": [
    "#### **2. What is the average age (age feature) of women?**"
   ]
  },
  {
   "cell_type": "code",
   "execution_count": 6,
   "id": "87bc529e",
   "metadata": {
    "execution": {
     "iopub.execute_input": "2024-04-05T18:27:00.527226Z",
     "iopub.status.busy": "2024-04-05T18:27:00.526301Z",
     "iopub.status.idle": "2024-04-05T18:27:00.548648Z",
     "shell.execute_reply": "2024-04-05T18:27:00.547330Z"
    },
    "id": "p8XQmG0P_gZN",
    "outputId": "5dce4afc-e72f-407f-a539-8239cf1a2814",
    "papermill": {
     "duration": 0.03515,
     "end_time": "2024-04-05T18:27:00.551070",
     "exception": false,
     "start_time": "2024-04-05T18:27:00.515920",
     "status": "completed"
    },
    "tags": []
   },
   "outputs": [
    {
     "name": "stdout",
     "output_type": "stream",
     "text": [
      "Average age of Women : 36.86\n"
     ]
    }
   ],
   "source": [
    "print(\"Average age of Women :\", round(data[data[\"sex\"] == \"Female\"][\"age\"].mean(), 2))"
   ]
  },
  {
   "cell_type": "markdown",
   "id": "4fa69894",
   "metadata": {
    "id": "eYuSbhUi_72K",
    "papermill": {
     "duration": 0.007274,
     "end_time": "2024-04-05T18:27:00.565856",
     "exception": false,
     "start_time": "2024-04-05T18:27:00.558582",
     "status": "completed"
    },
    "tags": []
   },
   "source": [
    "#### **3. What is the percentage of German citizens (native-country feature)?**"
   ]
  },
  {
   "cell_type": "code",
   "execution_count": 7,
   "id": "80036b92",
   "metadata": {
    "execution": {
     "iopub.execute_input": "2024-04-05T18:27:00.583481Z",
     "iopub.status.busy": "2024-04-05T18:27:00.582548Z",
     "iopub.status.idle": "2024-04-05T18:27:00.595057Z",
     "shell.execute_reply": "2024-04-05T18:27:00.593144Z"
    },
    "id": "GJ23TvxM_vA2",
    "outputId": "0b1f31b4-12c8-4932-d7df-992bbdf2f103",
    "papermill": {
     "duration": 0.023811,
     "end_time": "2024-04-05T18:27:00.597222",
     "exception": false,
     "start_time": "2024-04-05T18:27:00.573411",
     "status": "completed"
    },
    "tags": []
   },
   "outputs": [
    {
     "name": "stdout",
     "output_type": "stream",
     "text": [
      "Percentage of German citizens : 0.42 %\n"
     ]
    }
   ],
   "source": [
    "print(\"Percentage of German citizens :\", round(data[\"native-country\"].value_counts(normalize=True)[\"Germany\"] * 100, 2), \"%\")"
   ]
  },
  {
   "cell_type": "markdown",
   "id": "7f20b2e4",
   "metadata": {
    "id": "5UbTtbJkCiEZ",
    "papermill": {
     "duration": 0.007247,
     "end_time": "2024-04-05T18:27:00.612311",
     "exception": false,
     "start_time": "2024-04-05T18:27:00.605064",
     "status": "completed"
    },
    "tags": []
   },
   "source": [
    "#### **4-5. What are the mean and standard deviation of age for those who earn more than 50K per year (salary feature) and those who earn less than 50K per year?**"
   ]
  },
  {
   "cell_type": "code",
   "execution_count": 8,
   "id": "630286d4",
   "metadata": {
    "execution": {
     "iopub.execute_input": "2024-04-05T18:27:00.630095Z",
     "iopub.status.busy": "2024-04-05T18:27:00.629018Z",
     "iopub.status.idle": "2024-04-05T18:27:00.644512Z",
     "shell.execute_reply": "2024-04-05T18:27:00.643190Z"
    },
    "id": "Q_wXWJLkAVwy",
    "outputId": "fc748e42-2734-4e17-c2f6-cd9c1587c8d2",
    "papermill": {
     "duration": 0.026955,
     "end_time": "2024-04-05T18:27:00.646693",
     "exception": false,
     "start_time": "2024-04-05T18:27:00.619738",
     "status": "completed"
    },
    "tags": []
   },
   "outputs": [
    {
     "name": "stdout",
     "output_type": "stream",
     "text": [
      "Mean age of people whose salary is > 50K : 44.25\n"
     ]
    }
   ],
   "source": [
    "print(\"Mean age of people whose salary is > 50K :\", round(data[data[\"salary\"] == \">50K\"][\"age\"].mean(), 2))"
   ]
  },
  {
   "cell_type": "code",
   "execution_count": 9,
   "id": "f6265207",
   "metadata": {
    "execution": {
     "iopub.execute_input": "2024-04-05T18:27:00.664312Z",
     "iopub.status.busy": "2024-04-05T18:27:00.663575Z",
     "iopub.status.idle": "2024-04-05T18:27:00.677108Z",
     "shell.execute_reply": "2024-04-05T18:27:00.675906Z"
    },
    "id": "bhOl56keDVMk",
    "outputId": "61681b5c-08f8-44f2-ef0f-09c7036991fa",
    "papermill": {
     "duration": 0.024775,
     "end_time": "2024-04-05T18:27:00.679114",
     "exception": false,
     "start_time": "2024-04-05T18:27:00.654339",
     "status": "completed"
    },
    "tags": []
   },
   "outputs": [
    {
     "name": "stdout",
     "output_type": "stream",
     "text": [
      "Standard Deviation of age of people whose salary is > 50K : 10.52\n"
     ]
    }
   ],
   "source": [
    "print(\"Standard Deviation of age of people whose salary is > 50K :\", round(data[data[\"salary\"] == \">50K\"][\"age\"].std(), 2))"
   ]
  },
  {
   "cell_type": "code",
   "execution_count": 10,
   "id": "7c4c219f",
   "metadata": {
    "execution": {
     "iopub.execute_input": "2024-04-05T18:27:00.696869Z",
     "iopub.status.busy": "2024-04-05T18:27:00.696150Z",
     "iopub.status.idle": "2024-04-05T18:27:00.714799Z",
     "shell.execute_reply": "2024-04-05T18:27:00.713617Z"
    },
    "id": "Mk2PKMZHC4KD",
    "outputId": "d00cdb57-2a36-40d7-9168-0bd7cab07a19",
    "papermill": {
     "duration": 0.030046,
     "end_time": "2024-04-05T18:27:00.716894",
     "exception": false,
     "start_time": "2024-04-05T18:27:00.686848",
     "status": "completed"
    },
    "tags": []
   },
   "outputs": [
    {
     "name": "stdout",
     "output_type": "stream",
     "text": [
      "Mean age of people whose salary is <= 50K : 36.78\n"
     ]
    }
   ],
   "source": [
    "print(\"Mean age of people whose salary is <= 50K :\", round(data[data[\"salary\"] == \"<=50K\"][\"age\"].mean(), 2))"
   ]
  },
  {
   "cell_type": "code",
   "execution_count": 11,
   "id": "57e25491",
   "metadata": {
    "execution": {
     "iopub.execute_input": "2024-04-05T18:27:00.734777Z",
     "iopub.status.busy": "2024-04-05T18:27:00.734034Z",
     "iopub.status.idle": "2024-04-05T18:27:00.752115Z",
     "shell.execute_reply": "2024-04-05T18:27:00.750875Z"
    },
    "id": "lFmLGcXuDKmc",
    "outputId": "c0bfec3e-c33c-472e-d7fb-d0eed782ae01",
    "papermill": {
     "duration": 0.029675,
     "end_time": "2024-04-05T18:27:00.754271",
     "exception": false,
     "start_time": "2024-04-05T18:27:00.724596",
     "status": "completed"
    },
    "tags": []
   },
   "outputs": [
    {
     "name": "stdout",
     "output_type": "stream",
     "text": [
      "Standard Deviation of age of people whose salary is <= 50K : 14.02\n"
     ]
    }
   ],
   "source": [
    "print(\"Standard Deviation of age of people whose salary is <= 50K :\", round(data[data[\"salary\"] == \"<=50K\"][\"age\"].std(), 2))"
   ]
  },
  {
   "cell_type": "markdown",
   "id": "d86d6bde",
   "metadata": {
    "id": "MyWxb4VBDl1F",
    "papermill": {
     "duration": 0.009453,
     "end_time": "2024-04-05T18:27:00.772335",
     "exception": false,
     "start_time": "2024-04-05T18:27:00.762882",
     "status": "completed"
    },
    "tags": []
   },
   "source": [
    "#### **6. Is it true that people who earn more than 50K have at least high school education? (education – Bachelors, Prof-school, Assoc-acdm, Assoc-voc, Masters or Doctorate feature)**"
   ]
  },
  {
   "cell_type": "code",
   "execution_count": 12,
   "id": "2d8920dc",
   "metadata": {
    "execution": {
     "iopub.execute_input": "2024-04-05T18:27:00.789948Z",
     "iopub.status.busy": "2024-04-05T18:27:00.789543Z",
     "iopub.status.idle": "2024-04-05T18:27:00.802829Z",
     "shell.execute_reply": "2024-04-05T18:27:00.802090Z"
    },
    "id": "oNeqpCdhDa82",
    "outputId": "be56160c-1bbf-413b-fb79-5a4aa0633ce8",
    "papermill": {
     "duration": 0.024571,
     "end_time": "2024-04-05T18:27:00.804771",
     "exception": false,
     "start_time": "2024-04-05T18:27:00.780200",
     "status": "completed"
    },
    "tags": []
   },
   "outputs": [
    {
     "data": {
      "text/plain": [
       "education\n",
       "Bachelors       2221\n",
       "HS-grad         1675\n",
       "Some-college    1387\n",
       "Masters          959\n",
       "Prof-school      423\n",
       "Assoc-voc        361\n",
       "Doctorate        306\n",
       "Assoc-acdm       265\n",
       "10th              62\n",
       "11th              60\n",
       "7th-8th           40\n",
       "12th              33\n",
       "9th               27\n",
       "5th-6th           16\n",
       "1st-4th            6\n",
       "Name: count, dtype: int64"
      ]
     },
     "execution_count": 12,
     "metadata": {},
     "output_type": "execute_result"
    }
   ],
   "source": [
    "data[data[\"salary\"] == \">50K\"][\"education\"].value_counts(normalize=False)"
   ]
  },
  {
   "cell_type": "markdown",
   "id": "0da3d204",
   "metadata": {
    "id": "ec_Cr_X9DrKl",
    "papermill": {
     "duration": 0.007754,
     "end_time": "2024-04-05T18:27:00.820392",
     "exception": false,
     "start_time": "2024-04-05T18:27:00.812638",
     "status": "completed"
    },
    "tags": []
   },
   "source": [
    "#### **7. Display age statistics for each race (race feature) and each gender (sex feature). Use groupby() and describe(). Find the maximum age of men of Amer-Indian-Eskimo race.**"
   ]
  },
  {
   "cell_type": "code",
   "execution_count": 13,
   "id": "4f81e272",
   "metadata": {
    "execution": {
     "iopub.execute_input": "2024-04-05T18:27:00.839201Z",
     "iopub.status.busy": "2024-04-05T18:27:00.838540Z",
     "iopub.status.idle": "2024-04-05T18:27:00.891053Z",
     "shell.execute_reply": "2024-04-05T18:27:00.889987Z"
    },
    "id": "v0BsVugCDtT-",
    "outputId": "b800ca27-c5cd-447a-c48b-fac4506412cd",
    "papermill": {
     "duration": 0.064953,
     "end_time": "2024-04-05T18:27:00.893431",
     "exception": false,
     "start_time": "2024-04-05T18:27:00.828478",
     "status": "completed"
    },
    "tags": []
   },
   "outputs": [
    {
     "data": {
      "text/html": [
       "<div>\n",
       "<style scoped>\n",
       "    .dataframe tbody tr th:only-of-type {\n",
       "        vertical-align: middle;\n",
       "    }\n",
       "\n",
       "    .dataframe tbody tr th {\n",
       "        vertical-align: top;\n",
       "    }\n",
       "\n",
       "    .dataframe thead tr th {\n",
       "        text-align: left;\n",
       "    }\n",
       "\n",
       "    .dataframe thead tr:last-of-type th {\n",
       "        text-align: right;\n",
       "    }\n",
       "</style>\n",
       "<table border=\"1\" class=\"dataframe\">\n",
       "  <thead>\n",
       "    <tr>\n",
       "      <th></th>\n",
       "      <th colspan=\"8\" halign=\"left\">age</th>\n",
       "    </tr>\n",
       "    <tr>\n",
       "      <th></th>\n",
       "      <th>count</th>\n",
       "      <th>mean</th>\n",
       "      <th>std</th>\n",
       "      <th>min</th>\n",
       "      <th>25%</th>\n",
       "      <th>50%</th>\n",
       "      <th>75%</th>\n",
       "      <th>max</th>\n",
       "    </tr>\n",
       "    <tr>\n",
       "      <th>race</th>\n",
       "      <th></th>\n",
       "      <th></th>\n",
       "      <th></th>\n",
       "      <th></th>\n",
       "      <th></th>\n",
       "      <th></th>\n",
       "      <th></th>\n",
       "      <th></th>\n",
       "    </tr>\n",
       "  </thead>\n",
       "  <tbody>\n",
       "    <tr>\n",
       "      <th>Amer-Indian-Eskimo</th>\n",
       "      <td>311.0</td>\n",
       "      <td>37.173633</td>\n",
       "      <td>12.447130</td>\n",
       "      <td>17.0</td>\n",
       "      <td>28.0</td>\n",
       "      <td>35.0</td>\n",
       "      <td>45.5</td>\n",
       "      <td>82.0</td>\n",
       "    </tr>\n",
       "    <tr>\n",
       "      <th>Asian-Pac-Islander</th>\n",
       "      <td>1039.0</td>\n",
       "      <td>37.746872</td>\n",
       "      <td>12.825133</td>\n",
       "      <td>17.0</td>\n",
       "      <td>28.0</td>\n",
       "      <td>36.0</td>\n",
       "      <td>45.0</td>\n",
       "      <td>90.0</td>\n",
       "    </tr>\n",
       "    <tr>\n",
       "      <th>Black</th>\n",
       "      <td>3124.0</td>\n",
       "      <td>37.767926</td>\n",
       "      <td>12.759290</td>\n",
       "      <td>17.0</td>\n",
       "      <td>28.0</td>\n",
       "      <td>36.0</td>\n",
       "      <td>46.0</td>\n",
       "      <td>90.0</td>\n",
       "    </tr>\n",
       "    <tr>\n",
       "      <th>Other</th>\n",
       "      <td>271.0</td>\n",
       "      <td>33.457565</td>\n",
       "      <td>11.538865</td>\n",
       "      <td>17.0</td>\n",
       "      <td>25.0</td>\n",
       "      <td>31.0</td>\n",
       "      <td>41.0</td>\n",
       "      <td>77.0</td>\n",
       "    </tr>\n",
       "    <tr>\n",
       "      <th>White</th>\n",
       "      <td>27816.0</td>\n",
       "      <td>38.769881</td>\n",
       "      <td>13.782306</td>\n",
       "      <td>17.0</td>\n",
       "      <td>28.0</td>\n",
       "      <td>37.0</td>\n",
       "      <td>48.0</td>\n",
       "      <td>90.0</td>\n",
       "    </tr>\n",
       "  </tbody>\n",
       "</table>\n",
       "</div>"
      ],
      "text/plain": [
       "                        age                                                \\\n",
       "                      count       mean        std   min   25%   50%   75%   \n",
       "race                                                                        \n",
       "Amer-Indian-Eskimo    311.0  37.173633  12.447130  17.0  28.0  35.0  45.5   \n",
       "Asian-Pac-Islander   1039.0  37.746872  12.825133  17.0  28.0  36.0  45.0   \n",
       "Black                3124.0  37.767926  12.759290  17.0  28.0  36.0  46.0   \n",
       "Other                 271.0  33.457565  11.538865  17.0  25.0  31.0  41.0   \n",
       "White               27816.0  38.769881  13.782306  17.0  28.0  37.0  48.0   \n",
       "\n",
       "                          \n",
       "                     max  \n",
       "race                      \n",
       "Amer-Indian-Eskimo  82.0  \n",
       "Asian-Pac-Islander  90.0  \n",
       "Black               90.0  \n",
       "Other               77.0  \n",
       "White               90.0  "
      ]
     },
     "execution_count": 13,
     "metadata": {},
     "output_type": "execute_result"
    }
   ],
   "source": [
    "data.groupby(by=\"race\")[[\"age\"]].describe()"
   ]
  },
  {
   "cell_type": "code",
   "execution_count": 14,
   "id": "59c56907",
   "metadata": {
    "execution": {
     "iopub.execute_input": "2024-04-05T18:27:00.911951Z",
     "iopub.status.busy": "2024-04-05T18:27:00.911190Z",
     "iopub.status.idle": "2024-04-05T18:27:00.939629Z",
     "shell.execute_reply": "2024-04-05T18:27:00.938507Z"
    },
    "id": "kccWb0dLFAAG",
    "outputId": "3e31426e-474e-4414-a336-538cc4ab9e44",
    "papermill": {
     "duration": 0.04051,
     "end_time": "2024-04-05T18:27:00.942067",
     "exception": false,
     "start_time": "2024-04-05T18:27:00.901557",
     "status": "completed"
    },
    "tags": []
   },
   "outputs": [
    {
     "data": {
      "text/html": [
       "<div>\n",
       "<style scoped>\n",
       "    .dataframe tbody tr th:only-of-type {\n",
       "        vertical-align: middle;\n",
       "    }\n",
       "\n",
       "    .dataframe tbody tr th {\n",
       "        vertical-align: top;\n",
       "    }\n",
       "\n",
       "    .dataframe thead tr th {\n",
       "        text-align: left;\n",
       "    }\n",
       "\n",
       "    .dataframe thead tr:last-of-type th {\n",
       "        text-align: right;\n",
       "    }\n",
       "</style>\n",
       "<table border=\"1\" class=\"dataframe\">\n",
       "  <thead>\n",
       "    <tr>\n",
       "      <th></th>\n",
       "      <th colspan=\"8\" halign=\"left\">age</th>\n",
       "    </tr>\n",
       "    <tr>\n",
       "      <th></th>\n",
       "      <th>count</th>\n",
       "      <th>mean</th>\n",
       "      <th>std</th>\n",
       "      <th>min</th>\n",
       "      <th>25%</th>\n",
       "      <th>50%</th>\n",
       "      <th>75%</th>\n",
       "      <th>max</th>\n",
       "    </tr>\n",
       "    <tr>\n",
       "      <th>sex</th>\n",
       "      <th></th>\n",
       "      <th></th>\n",
       "      <th></th>\n",
       "      <th></th>\n",
       "      <th></th>\n",
       "      <th></th>\n",
       "      <th></th>\n",
       "      <th></th>\n",
       "    </tr>\n",
       "  </thead>\n",
       "  <tbody>\n",
       "    <tr>\n",
       "      <th>Female</th>\n",
       "      <td>10771.0</td>\n",
       "      <td>36.858230</td>\n",
       "      <td>14.013697</td>\n",
       "      <td>17.0</td>\n",
       "      <td>25.0</td>\n",
       "      <td>35.0</td>\n",
       "      <td>46.0</td>\n",
       "      <td>90.0</td>\n",
       "    </tr>\n",
       "    <tr>\n",
       "      <th>Male</th>\n",
       "      <td>21790.0</td>\n",
       "      <td>39.433547</td>\n",
       "      <td>13.370630</td>\n",
       "      <td>17.0</td>\n",
       "      <td>29.0</td>\n",
       "      <td>38.0</td>\n",
       "      <td>48.0</td>\n",
       "      <td>90.0</td>\n",
       "    </tr>\n",
       "  </tbody>\n",
       "</table>\n",
       "</div>"
      ],
      "text/plain": [
       "            age                                                    \n",
       "          count       mean        std   min   25%   50%   75%   max\n",
       "sex                                                                \n",
       "Female  10771.0  36.858230  14.013697  17.0  25.0  35.0  46.0  90.0\n",
       "Male    21790.0  39.433547  13.370630  17.0  29.0  38.0  48.0  90.0"
      ]
     },
     "execution_count": 14,
     "metadata": {},
     "output_type": "execute_result"
    }
   ],
   "source": [
    "data.groupby(by=\"sex\")[[\"age\"]].describe()"
   ]
  },
  {
   "cell_type": "code",
   "execution_count": 15,
   "id": "126de70e",
   "metadata": {
    "execution": {
     "iopub.execute_input": "2024-04-05T18:27:00.960819Z",
     "iopub.status.busy": "2024-04-05T18:27:00.960401Z",
     "iopub.status.idle": "2024-04-05T18:27:01.019604Z",
     "shell.execute_reply": "2024-04-05T18:27:01.018515Z"
    },
    "id": "Wv5IROSjFKyL",
    "outputId": "21b24398-ea0d-4a76-8235-1a5e378bcb1c",
    "papermill": {
     "duration": 0.071695,
     "end_time": "2024-04-05T18:27:01.022157",
     "exception": false,
     "start_time": "2024-04-05T18:27:00.950462",
     "status": "completed"
    },
    "tags": []
   },
   "outputs": [
    {
     "data": {
      "text/html": [
       "<div>\n",
       "<style scoped>\n",
       "    .dataframe tbody tr th:only-of-type {\n",
       "        vertical-align: middle;\n",
       "    }\n",
       "\n",
       "    .dataframe tbody tr th {\n",
       "        vertical-align: top;\n",
       "    }\n",
       "\n",
       "    .dataframe thead tr th {\n",
       "        text-align: left;\n",
       "    }\n",
       "\n",
       "    .dataframe thead tr:last-of-type th {\n",
       "        text-align: right;\n",
       "    }\n",
       "</style>\n",
       "<table border=\"1\" class=\"dataframe\">\n",
       "  <thead>\n",
       "    <tr>\n",
       "      <th></th>\n",
       "      <th></th>\n",
       "      <th colspan=\"8\" halign=\"left\">age</th>\n",
       "    </tr>\n",
       "    <tr>\n",
       "      <th></th>\n",
       "      <th></th>\n",
       "      <th>count</th>\n",
       "      <th>mean</th>\n",
       "      <th>std</th>\n",
       "      <th>min</th>\n",
       "      <th>25%</th>\n",
       "      <th>50%</th>\n",
       "      <th>75%</th>\n",
       "      <th>max</th>\n",
       "    </tr>\n",
       "    <tr>\n",
       "      <th>race</th>\n",
       "      <th>sex</th>\n",
       "      <th></th>\n",
       "      <th></th>\n",
       "      <th></th>\n",
       "      <th></th>\n",
       "      <th></th>\n",
       "      <th></th>\n",
       "      <th></th>\n",
       "      <th></th>\n",
       "    </tr>\n",
       "  </thead>\n",
       "  <tbody>\n",
       "    <tr>\n",
       "      <th rowspan=\"2\" valign=\"top\">Amer-Indian-Eskimo</th>\n",
       "      <th>Female</th>\n",
       "      <td>119.0</td>\n",
       "      <td>37.117647</td>\n",
       "      <td>13.114991</td>\n",
       "      <td>17.0</td>\n",
       "      <td>27.0</td>\n",
       "      <td>36.0</td>\n",
       "      <td>46.00</td>\n",
       "      <td>80.0</td>\n",
       "    </tr>\n",
       "    <tr>\n",
       "      <th>Male</th>\n",
       "      <td>192.0</td>\n",
       "      <td>37.208333</td>\n",
       "      <td>12.049563</td>\n",
       "      <td>17.0</td>\n",
       "      <td>28.0</td>\n",
       "      <td>35.0</td>\n",
       "      <td>45.00</td>\n",
       "      <td>82.0</td>\n",
       "    </tr>\n",
       "    <tr>\n",
       "      <th rowspan=\"2\" valign=\"top\">Asian-Pac-Islander</th>\n",
       "      <th>Female</th>\n",
       "      <td>346.0</td>\n",
       "      <td>35.089595</td>\n",
       "      <td>12.300845</td>\n",
       "      <td>17.0</td>\n",
       "      <td>25.0</td>\n",
       "      <td>33.0</td>\n",
       "      <td>43.75</td>\n",
       "      <td>75.0</td>\n",
       "    </tr>\n",
       "    <tr>\n",
       "      <th>Male</th>\n",
       "      <td>693.0</td>\n",
       "      <td>39.073593</td>\n",
       "      <td>12.883944</td>\n",
       "      <td>18.0</td>\n",
       "      <td>29.0</td>\n",
       "      <td>37.0</td>\n",
       "      <td>46.00</td>\n",
       "      <td>90.0</td>\n",
       "    </tr>\n",
       "    <tr>\n",
       "      <th rowspan=\"2\" valign=\"top\">Black</th>\n",
       "      <th>Female</th>\n",
       "      <td>1555.0</td>\n",
       "      <td>37.854019</td>\n",
       "      <td>12.637197</td>\n",
       "      <td>17.0</td>\n",
       "      <td>28.0</td>\n",
       "      <td>37.0</td>\n",
       "      <td>46.00</td>\n",
       "      <td>90.0</td>\n",
       "    </tr>\n",
       "    <tr>\n",
       "      <th>Male</th>\n",
       "      <td>1569.0</td>\n",
       "      <td>37.682600</td>\n",
       "      <td>12.882612</td>\n",
       "      <td>17.0</td>\n",
       "      <td>27.0</td>\n",
       "      <td>36.0</td>\n",
       "      <td>46.00</td>\n",
       "      <td>90.0</td>\n",
       "    </tr>\n",
       "    <tr>\n",
       "      <th rowspan=\"2\" valign=\"top\">Other</th>\n",
       "      <th>Female</th>\n",
       "      <td>109.0</td>\n",
       "      <td>31.678899</td>\n",
       "      <td>11.631599</td>\n",
       "      <td>17.0</td>\n",
       "      <td>23.0</td>\n",
       "      <td>29.0</td>\n",
       "      <td>39.00</td>\n",
       "      <td>74.0</td>\n",
       "    </tr>\n",
       "    <tr>\n",
       "      <th>Male</th>\n",
       "      <td>162.0</td>\n",
       "      <td>34.654321</td>\n",
       "      <td>11.355531</td>\n",
       "      <td>17.0</td>\n",
       "      <td>26.0</td>\n",
       "      <td>32.0</td>\n",
       "      <td>42.00</td>\n",
       "      <td>77.0</td>\n",
       "    </tr>\n",
       "    <tr>\n",
       "      <th rowspan=\"2\" valign=\"top\">White</th>\n",
       "      <th>Female</th>\n",
       "      <td>8642.0</td>\n",
       "      <td>36.811618</td>\n",
       "      <td>14.329093</td>\n",
       "      <td>17.0</td>\n",
       "      <td>25.0</td>\n",
       "      <td>35.0</td>\n",
       "      <td>46.00</td>\n",
       "      <td>90.0</td>\n",
       "    </tr>\n",
       "    <tr>\n",
       "      <th>Male</th>\n",
       "      <td>19174.0</td>\n",
       "      <td>39.652498</td>\n",
       "      <td>13.436029</td>\n",
       "      <td>17.0</td>\n",
       "      <td>29.0</td>\n",
       "      <td>38.0</td>\n",
       "      <td>49.00</td>\n",
       "      <td>90.0</td>\n",
       "    </tr>\n",
       "  </tbody>\n",
       "</table>\n",
       "</div>"
      ],
      "text/plain": [
       "                               age                                          \\\n",
       "                             count       mean        std   min   25%   50%   \n",
       "race               sex                                                       \n",
       "Amer-Indian-Eskimo Female    119.0  37.117647  13.114991  17.0  27.0  36.0   \n",
       "                   Male      192.0  37.208333  12.049563  17.0  28.0  35.0   \n",
       "Asian-Pac-Islander Female    346.0  35.089595  12.300845  17.0  25.0  33.0   \n",
       "                   Male      693.0  39.073593  12.883944  18.0  29.0  37.0   \n",
       "Black              Female   1555.0  37.854019  12.637197  17.0  28.0  37.0   \n",
       "                   Male     1569.0  37.682600  12.882612  17.0  27.0  36.0   \n",
       "Other              Female    109.0  31.678899  11.631599  17.0  23.0  29.0   \n",
       "                   Male      162.0  34.654321  11.355531  17.0  26.0  32.0   \n",
       "White              Female   8642.0  36.811618  14.329093  17.0  25.0  35.0   \n",
       "                   Male    19174.0  39.652498  13.436029  17.0  29.0  38.0   \n",
       "\n",
       "                                        \n",
       "                             75%   max  \n",
       "race               sex                  \n",
       "Amer-Indian-Eskimo Female  46.00  80.0  \n",
       "                   Male    45.00  82.0  \n",
       "Asian-Pac-Islander Female  43.75  75.0  \n",
       "                   Male    46.00  90.0  \n",
       "Black              Female  46.00  90.0  \n",
       "                   Male    46.00  90.0  \n",
       "Other              Female  39.00  74.0  \n",
       "                   Male    42.00  77.0  \n",
       "White              Female  46.00  90.0  \n",
       "                   Male    49.00  90.0  "
      ]
     },
     "execution_count": 15,
     "metadata": {},
     "output_type": "execute_result"
    }
   ],
   "source": [
    "data.groupby(by=[\"race\", \"sex\"])[[\"age\"]].describe()"
   ]
  },
  {
   "cell_type": "markdown",
   "id": "10cbbee7",
   "metadata": {
    "id": "z1KX2lC3Dt-b",
    "papermill": {
     "duration": 0.008375,
     "end_time": "2024-04-05T18:27:01.039478",
     "exception": false,
     "start_time": "2024-04-05T18:27:01.031103",
     "status": "completed"
    },
    "tags": []
   },
   "source": [
    "#### **8. Among whom is the proportion of those who earn a lot (>50K) greater: married or single men (marital-status feature)? Consider as married those who have a marital-status starting with Married (Married-civ-spouse, Married-spouse-absent or Married-AF-spouse), the rest are considered bachelors.**"
   ]
  },
  {
   "cell_type": "code",
   "execution_count": 16,
   "id": "c71a5144",
   "metadata": {
    "execution": {
     "iopub.execute_input": "2024-04-05T18:27:01.059615Z",
     "iopub.status.busy": "2024-04-05T18:27:01.058600Z",
     "iopub.status.idle": "2024-04-05T18:27:01.090956Z",
     "shell.execute_reply": "2024-04-05T18:27:01.089635Z"
    },
    "id": "M-NiT6OpD4pH",
    "outputId": "d892d1d0-a049-445f-8653-71bb92a58949",
    "papermill": {
     "duration": 0.045335,
     "end_time": "2024-04-05T18:27:01.093546",
     "exception": false,
     "start_time": "2024-04-05T18:27:01.048211",
     "status": "completed"
    },
    "tags": []
   },
   "outputs": [
    {
     "data": {
      "text/html": [
       "<div>\n",
       "<style scoped>\n",
       "    .dataframe tbody tr th:only-of-type {\n",
       "        vertical-align: middle;\n",
       "    }\n",
       "\n",
       "    .dataframe tbody tr th {\n",
       "        vertical-align: top;\n",
       "    }\n",
       "\n",
       "    .dataframe thead th {\n",
       "        text-align: right;\n",
       "    }\n",
       "</style>\n",
       "<table border=\"1\" class=\"dataframe\">\n",
       "  <thead>\n",
       "    <tr style=\"text-align: right;\">\n",
       "      <th></th>\n",
       "      <th></th>\n",
       "      <th>salary</th>\n",
       "    </tr>\n",
       "    <tr>\n",
       "      <th>marital-status-transformed</th>\n",
       "      <th>salary</th>\n",
       "      <th></th>\n",
       "    </tr>\n",
       "  </thead>\n",
       "  <tbody>\n",
       "    <tr>\n",
       "      <th rowspan=\"2\" valign=\"top\">Married</th>\n",
       "      <th>&lt;=50K</th>\n",
       "      <td>8681</td>\n",
       "    </tr>\n",
       "    <tr>\n",
       "      <th>&gt;50K</th>\n",
       "      <td>6736</td>\n",
       "    </tr>\n",
       "    <tr>\n",
       "      <th rowspan=\"2\" valign=\"top\">Unmarried</th>\n",
       "      <th>&lt;=50K</th>\n",
       "      <td>16039</td>\n",
       "    </tr>\n",
       "    <tr>\n",
       "      <th>&gt;50K</th>\n",
       "      <td>1105</td>\n",
       "    </tr>\n",
       "  </tbody>\n",
       "</table>\n",
       "</div>"
      ],
      "text/plain": [
       "                                   salary\n",
       "marital-status-transformed salary        \n",
       "Married                    <=50K     8681\n",
       "                           >50K      6736\n",
       "Unmarried                  <=50K    16039\n",
       "                           >50K      1105"
      ]
     },
     "execution_count": 16,
     "metadata": {},
     "output_type": "execute_result"
    }
   ],
   "source": [
    "data[\"marital-status-transformed\"] = data[\"marital-status\"].apply(lambda value : \"Married\" if value.startswith(\"Married\") else \"Unmarried\")\n",
    "data.groupby(by=[\"marital-status-transformed\", \"salary\"])[[\"salary\"]].count()"
   ]
  },
  {
   "cell_type": "markdown",
   "id": "9eb5535a",
   "metadata": {
    "id": "Zwxx-AKAD7dd",
    "papermill": {
     "duration": 0.008512,
     "end_time": "2024-04-05T18:27:01.111036",
     "exception": false,
     "start_time": "2024-04-05T18:27:01.102524",
     "status": "completed"
    },
    "tags": []
   },
   "source": [
    "#### **9. What is the maximum number of hours a person works per week (hours-per-week feature)? How many people work such a number of hours, and what is the percentage of those who earn a lot (>50K) among them?**"
   ]
  },
  {
   "cell_type": "code",
   "execution_count": 17,
   "id": "eb984f56",
   "metadata": {
    "execution": {
     "iopub.execute_input": "2024-04-05T18:27:01.130592Z",
     "iopub.status.busy": "2024-04-05T18:27:01.130230Z",
     "iopub.status.idle": "2024-04-05T18:27:01.141486Z",
     "shell.execute_reply": "2024-04-05T18:27:01.140303Z"
    },
    "id": "1ecfNqUkD893",
    "outputId": "0aedcafd-ae8d-4ee2-c458-1d13659a7335",
    "papermill": {
     "duration": 0.023799,
     "end_time": "2024-04-05T18:27:01.143730",
     "exception": false,
     "start_time": "2024-04-05T18:27:01.119931",
     "status": "completed"
    },
    "tags": []
   },
   "outputs": [
    {
     "name": "stdout",
     "output_type": "stream",
     "text": [
      "Maximum hours of work per week : 99\n",
      "Number of people work maximum hours :  85\n",
      "Percentage of people earn more that 50K and work maximum hours :  0.29411764705882354 %\n"
     ]
    }
   ],
   "source": [
    "maximum_hours_per_week = data[\"hours-per-week\"].max()\n",
    "print(\"Maximum hours of work per week :\", maximum_hours_per_week)\n",
    "print(\"Number of people work maximum hours : \", data[data[\"hours-per-week\"] == maximum_hours_per_week].shape[0])\n",
    "print(\"Percentage of people earn more that 50K and work maximum hours : \", data[data[\"hours-per-week\"] == maximum_hours_per_week][\"salary\"].value_counts(normalize=True)[\">50K\"], \"%\")"
   ]
  },
  {
   "cell_type": "markdown",
   "id": "6f0e54a5",
   "metadata": {
    "id": "HXxG0a5-EDF6",
    "papermill": {
     "duration": 0.009222,
     "end_time": "2024-04-05T18:27:01.162123",
     "exception": false,
     "start_time": "2024-04-05T18:27:01.152901",
     "status": "completed"
    },
    "tags": []
   },
   "source": [
    "#### **10. Count the average time of work (hours-per-week) for those who earn a little and a lot (salary) for each country (native-country). What will these be for Japan?**"
   ]
  },
  {
   "cell_type": "code",
   "execution_count": 18,
   "id": "a8de14ad",
   "metadata": {
    "execution": {
     "iopub.execute_input": "2024-04-05T18:27:01.182580Z",
     "iopub.status.busy": "2024-04-05T18:27:01.181876Z",
     "iopub.status.idle": "2024-04-05T18:27:01.187155Z",
     "shell.execute_reply": "2024-04-05T18:27:01.186436Z"
    },
    "id": "PGznPV9YEEsp",
    "papermill": {
     "duration": 0.017695,
     "end_time": "2024-04-05T18:27:01.189085",
     "exception": false,
     "start_time": "2024-04-05T18:27:01.171390",
     "status": "completed"
    },
    "tags": []
   },
   "outputs": [],
   "source": [
    "group = data.groupby(by=[\"native-country\", \"salary\"])[[\"hours-per-week\"]]"
   ]
  },
  {
   "cell_type": "code",
   "execution_count": 19,
   "id": "9b3c9d8d",
   "metadata": {
    "execution": {
     "iopub.execute_input": "2024-04-05T18:27:01.209312Z",
     "iopub.status.busy": "2024-04-05T18:27:01.208633Z",
     "iopub.status.idle": "2024-04-05T18:27:01.230793Z",
     "shell.execute_reply": "2024-04-05T18:27:01.229775Z"
    },
    "id": "IjY3K4LfMYjF",
    "outputId": "182165fd-4ba9-4cc3-9d12-336560763e5f",
    "papermill": {
     "duration": 0.035028,
     "end_time": "2024-04-05T18:27:01.233338",
     "exception": false,
     "start_time": "2024-04-05T18:27:01.198310",
     "status": "completed"
    },
    "tags": []
   },
   "outputs": [
    {
     "data": {
      "text/html": [
       "<div>\n",
       "<style scoped>\n",
       "    .dataframe tbody tr th:only-of-type {\n",
       "        vertical-align: middle;\n",
       "    }\n",
       "\n",
       "    .dataframe tbody tr th {\n",
       "        vertical-align: top;\n",
       "    }\n",
       "\n",
       "    .dataframe thead th {\n",
       "        text-align: right;\n",
       "    }\n",
       "</style>\n",
       "<table border=\"1\" class=\"dataframe\">\n",
       "  <thead>\n",
       "    <tr style=\"text-align: right;\">\n",
       "      <th></th>\n",
       "      <th></th>\n",
       "      <th>hours-per-week</th>\n",
       "    </tr>\n",
       "    <tr>\n",
       "      <th>native-country</th>\n",
       "      <th>salary</th>\n",
       "      <th></th>\n",
       "    </tr>\n",
       "  </thead>\n",
       "  <tbody>\n",
       "    <tr>\n",
       "      <th rowspan=\"2\" valign=\"top\">?</th>\n",
       "      <th>&lt;=50K</th>\n",
       "      <td>40.164760</td>\n",
       "    </tr>\n",
       "    <tr>\n",
       "      <th>&gt;50K</th>\n",
       "      <td>45.547945</td>\n",
       "    </tr>\n",
       "    <tr>\n",
       "      <th rowspan=\"2\" valign=\"top\">Cambodia</th>\n",
       "      <th>&lt;=50K</th>\n",
       "      <td>41.416667</td>\n",
       "    </tr>\n",
       "    <tr>\n",
       "      <th>&gt;50K</th>\n",
       "      <td>40.000000</td>\n",
       "    </tr>\n",
       "    <tr>\n",
       "      <th>Canada</th>\n",
       "      <th>&lt;=50K</th>\n",
       "      <td>37.914634</td>\n",
       "    </tr>\n",
       "    <tr>\n",
       "      <th>...</th>\n",
       "      <th>...</th>\n",
       "      <td>...</td>\n",
       "    </tr>\n",
       "    <tr>\n",
       "      <th>United-States</th>\n",
       "      <th>&gt;50K</th>\n",
       "      <td>45.505369</td>\n",
       "    </tr>\n",
       "    <tr>\n",
       "      <th rowspan=\"2\" valign=\"top\">Vietnam</th>\n",
       "      <th>&lt;=50K</th>\n",
       "      <td>37.193548</td>\n",
       "    </tr>\n",
       "    <tr>\n",
       "      <th>&gt;50K</th>\n",
       "      <td>39.200000</td>\n",
       "    </tr>\n",
       "    <tr>\n",
       "      <th rowspan=\"2\" valign=\"top\">Yugoslavia</th>\n",
       "      <th>&lt;=50K</th>\n",
       "      <td>41.600000</td>\n",
       "    </tr>\n",
       "    <tr>\n",
       "      <th>&gt;50K</th>\n",
       "      <td>49.500000</td>\n",
       "    </tr>\n",
       "  </tbody>\n",
       "</table>\n",
       "<p>82 rows × 1 columns</p>\n",
       "</div>"
      ],
      "text/plain": [
       "                       hours-per-week\n",
       "native-country salary                \n",
       "?              <=50K        40.164760\n",
       "               >50K         45.547945\n",
       "Cambodia       <=50K        41.416667\n",
       "               >50K         40.000000\n",
       "Canada         <=50K        37.914634\n",
       "...                               ...\n",
       "United-States  >50K         45.505369\n",
       "Vietnam        <=50K        37.193548\n",
       "               >50K         39.200000\n",
       "Yugoslavia     <=50K        41.600000\n",
       "               >50K         49.500000\n",
       "\n",
       "[82 rows x 1 columns]"
      ]
     },
     "execution_count": 19,
     "metadata": {},
     "output_type": "execute_result"
    }
   ],
   "source": [
    "group.mean()"
   ]
  },
  {
   "cell_type": "code",
   "execution_count": 20,
   "id": "f323c973",
   "metadata": {
    "execution": {
     "iopub.execute_input": "2024-04-05T18:27:01.253924Z",
     "iopub.status.busy": "2024-04-05T18:27:01.253508Z",
     "iopub.status.idle": "2024-04-05T18:27:01.263581Z",
     "shell.execute_reply": "2024-04-05T18:27:01.262795Z"
    },
    "id": "fiRWY7zXMDwo",
    "outputId": "892d1c01-2733-4c7d-aacd-d620d60a7de5",
    "papermill": {
     "duration": 0.023576,
     "end_time": "2024-04-05T18:27:01.266168",
     "exception": false,
     "start_time": "2024-04-05T18:27:01.242592",
     "status": "completed"
    },
    "tags": []
   },
   "outputs": [
    {
     "data": {
      "text/plain": [
       "hours-per-week    47.958333\n",
       "dtype: float64"
      ]
     },
     "execution_count": 20,
     "metadata": {},
     "output_type": "execute_result"
    }
   ],
   "source": [
    "group.get_group((\"Japan\", \">50K\")).mean()"
   ]
  },
  {
   "cell_type": "code",
   "execution_count": 21,
   "id": "d7872ff1",
   "metadata": {
    "execution": {
     "iopub.execute_input": "2024-04-05T18:27:01.288561Z",
     "iopub.status.busy": "2024-04-05T18:27:01.287872Z",
     "iopub.status.idle": "2024-04-05T18:27:01.297216Z",
     "shell.execute_reply": "2024-04-05T18:27:01.296092Z"
    },
    "id": "mwabzo0TKtX8",
    "outputId": "f3dc2d3b-92e3-47d0-811f-b78cbb6e48dc",
    "papermill": {
     "duration": 0.023274,
     "end_time": "2024-04-05T18:27:01.299743",
     "exception": false,
     "start_time": "2024-04-05T18:27:01.276469",
     "status": "completed"
    },
    "tags": []
   },
   "outputs": [
    {
     "data": {
      "text/plain": [
       "hours-per-week    41.0\n",
       "dtype: float64"
      ]
     },
     "execution_count": 21,
     "metadata": {},
     "output_type": "execute_result"
    }
   ],
   "source": [
    "group.get_group((\"Japan\", \"<=50K\")).mean()"
   ]
  },
  {
   "cell_type": "markdown",
   "id": "72d0f2e4",
   "metadata": {
    "id": "Cz5aVzC6aqC2",
    "papermill": {
     "duration": 0.009587,
     "end_time": "2024-04-05T18:27:01.320003",
     "exception": false,
     "start_time": "2024-04-05T18:27:01.310416",
     "status": "completed"
    },
    "tags": []
   },
   "source": [
    "#### **Verify your answers with this [google form](https://docs.google.com/forms/d/1uY7MpI2trKx6FLWZte0uVh3ULV4Cm_tDud0VDFGCOKg/)**"
   ]
  }
 ],
 "metadata": {
  "colab": {
   "provenance": []
  },
  "kaggle": {
   "accelerator": "none",
   "dataSources": [],
   "dockerImageVersionId": 30673,
   "isGpuEnabled": false,
   "isInternetEnabled": true,
   "language": "python",
   "sourceType": "notebook"
  },
  "kernelspec": {
   "display_name": "Python 3",
   "language": "python",
   "name": "python3"
  },
  "language_info": {
   "codemirror_mode": {
    "name": "ipython",
    "version": 3
   },
   "file_extension": ".py",
   "mimetype": "text/x-python",
   "name": "python",
   "nbconvert_exporter": "python",
   "pygments_lexer": "ipython3",
   "version": "3.10.13"
  },
  "papermill": {
   "default_parameters": {},
   "duration": 6.281764,
   "end_time": "2024-04-05T18:27:01.851497",
   "environment_variables": {},
   "exception": null,
   "input_path": "__notebook__.ipynb",
   "output_path": "__notebook__.ipynb",
   "parameters": {},
   "start_time": "2024-04-05T18:26:55.569733",
   "version": "2.5.0"
  }
 },
 "nbformat": 4,
 "nbformat_minor": 5
}
